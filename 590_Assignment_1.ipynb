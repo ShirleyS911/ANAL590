{
  "nbformat": 4,
  "nbformat_minor": 0,
  "metadata": {
    "colab": {
      "name": "590 Assignment 1.ipynb",
      "provenance": [],
      "authorship_tag": "ABX9TyO0aU5HtBEKjoJ39hfqcA7g",
      "include_colab_link": true
    },
    "kernelspec": {
      "name": "python3",
      "display_name": "Python 3"
    }
  },
  "cells": [
    {
      "cell_type": "markdown",
      "metadata": {
        "id": "view-in-github",
        "colab_type": "text"
      },
      "source": [
        "<a href=\"https://colab.research.google.com/github/ShirleyS911/ANAL590/blob/master/590_Assignment_1.ipynb\" target=\"_parent\"><img src=\"https://colab.research.google.com/assets/colab-badge.svg\" alt=\"Open In Colab\"/></a>"
      ]
    },
    {
      "cell_type": "markdown",
      "metadata": {
        "id": "RbwzB9vm-awQ",
        "colab_type": "text"
      },
      "source": [
        "1.1\n",
        "Use LASSO regression to predict Salary from the other numeric predictors. Create a visualization of the coefficient trajectories. Comment on which are the final three predictors that remain in the model. Use cross-validation to find the optimal value of the regularization penality. How many predictors are left in that model?\n"
      ]
    },
    {
      "cell_type": "code",
      "metadata": {
        "id": "2plvgBk6-euD",
        "colab_type": "code",
        "colab": {
          "base_uri": "https://localhost:8080/",
          "height": 326
        },
        "outputId": "a2934ba2-3a1f-4c96-8726-7495ab4f5874"
      },
      "source": [
        "import pandas as pd\n",
        "import numpy as np\n",
        "import matplotlib.pyplot as plt\n",
        "from statistics import *\n",
        "\n",
        "\n",
        "df = pd.read_csv('/content/Hitters.csv')\n",
        "df.head()"
      ],
      "execution_count": 135,
      "outputs": [
        {
          "output_type": "execute_result",
          "data": {
            "text/html": [
              "<div>\n",
              "<style scoped>\n",
              "    .dataframe tbody tr th:only-of-type {\n",
              "        vertical-align: middle;\n",
              "    }\n",
              "\n",
              "    .dataframe tbody tr th {\n",
              "        vertical-align: top;\n",
              "    }\n",
              "\n",
              "    .dataframe thead th {\n",
              "        text-align: right;\n",
              "    }\n",
              "</style>\n",
              "<table border=\"1\" class=\"dataframe\">\n",
              "  <thead>\n",
              "    <tr style=\"text-align: right;\">\n",
              "      <th></th>\n",
              "      <th>Unnamed: 0</th>\n",
              "      <th>AtBat</th>\n",
              "      <th>Hits</th>\n",
              "      <th>HmRun</th>\n",
              "      <th>Runs</th>\n",
              "      <th>RBI</th>\n",
              "      <th>Walks</th>\n",
              "      <th>Years</th>\n",
              "      <th>CAtBat</th>\n",
              "      <th>CHits</th>\n",
              "      <th>CHmRun</th>\n",
              "      <th>CRuns</th>\n",
              "      <th>CRBI</th>\n",
              "      <th>CWalks</th>\n",
              "      <th>League</th>\n",
              "      <th>Division</th>\n",
              "      <th>PutOuts</th>\n",
              "      <th>Assists</th>\n",
              "      <th>Errors</th>\n",
              "      <th>Salary</th>\n",
              "      <th>NewLeague</th>\n",
              "    </tr>\n",
              "  </thead>\n",
              "  <tbody>\n",
              "    <tr>\n",
              "      <th>0</th>\n",
              "      <td>-Andy Allanson</td>\n",
              "      <td>293</td>\n",
              "      <td>66</td>\n",
              "      <td>1</td>\n",
              "      <td>30</td>\n",
              "      <td>29</td>\n",
              "      <td>14</td>\n",
              "      <td>1</td>\n",
              "      <td>293</td>\n",
              "      <td>66</td>\n",
              "      <td>1</td>\n",
              "      <td>30</td>\n",
              "      <td>29</td>\n",
              "      <td>14</td>\n",
              "      <td>A</td>\n",
              "      <td>E</td>\n",
              "      <td>446</td>\n",
              "      <td>33</td>\n",
              "      <td>20</td>\n",
              "      <td>NaN</td>\n",
              "      <td>A</td>\n",
              "    </tr>\n",
              "    <tr>\n",
              "      <th>1</th>\n",
              "      <td>-Alan Ashby</td>\n",
              "      <td>315</td>\n",
              "      <td>81</td>\n",
              "      <td>7</td>\n",
              "      <td>24</td>\n",
              "      <td>38</td>\n",
              "      <td>39</td>\n",
              "      <td>14</td>\n",
              "      <td>3449</td>\n",
              "      <td>835</td>\n",
              "      <td>69</td>\n",
              "      <td>321</td>\n",
              "      <td>414</td>\n",
              "      <td>375</td>\n",
              "      <td>N</td>\n",
              "      <td>W</td>\n",
              "      <td>632</td>\n",
              "      <td>43</td>\n",
              "      <td>10</td>\n",
              "      <td>475.0</td>\n",
              "      <td>N</td>\n",
              "    </tr>\n",
              "    <tr>\n",
              "      <th>2</th>\n",
              "      <td>-Alvin Davis</td>\n",
              "      <td>479</td>\n",
              "      <td>130</td>\n",
              "      <td>18</td>\n",
              "      <td>66</td>\n",
              "      <td>72</td>\n",
              "      <td>76</td>\n",
              "      <td>3</td>\n",
              "      <td>1624</td>\n",
              "      <td>457</td>\n",
              "      <td>63</td>\n",
              "      <td>224</td>\n",
              "      <td>266</td>\n",
              "      <td>263</td>\n",
              "      <td>A</td>\n",
              "      <td>W</td>\n",
              "      <td>880</td>\n",
              "      <td>82</td>\n",
              "      <td>14</td>\n",
              "      <td>480.0</td>\n",
              "      <td>A</td>\n",
              "    </tr>\n",
              "    <tr>\n",
              "      <th>3</th>\n",
              "      <td>-Andre Dawson</td>\n",
              "      <td>496</td>\n",
              "      <td>141</td>\n",
              "      <td>20</td>\n",
              "      <td>65</td>\n",
              "      <td>78</td>\n",
              "      <td>37</td>\n",
              "      <td>11</td>\n",
              "      <td>5628</td>\n",
              "      <td>1575</td>\n",
              "      <td>225</td>\n",
              "      <td>828</td>\n",
              "      <td>838</td>\n",
              "      <td>354</td>\n",
              "      <td>N</td>\n",
              "      <td>E</td>\n",
              "      <td>200</td>\n",
              "      <td>11</td>\n",
              "      <td>3</td>\n",
              "      <td>500.0</td>\n",
              "      <td>N</td>\n",
              "    </tr>\n",
              "    <tr>\n",
              "      <th>4</th>\n",
              "      <td>-Andres Galarraga</td>\n",
              "      <td>321</td>\n",
              "      <td>87</td>\n",
              "      <td>10</td>\n",
              "      <td>39</td>\n",
              "      <td>42</td>\n",
              "      <td>30</td>\n",
              "      <td>2</td>\n",
              "      <td>396</td>\n",
              "      <td>101</td>\n",
              "      <td>12</td>\n",
              "      <td>48</td>\n",
              "      <td>46</td>\n",
              "      <td>33</td>\n",
              "      <td>N</td>\n",
              "      <td>E</td>\n",
              "      <td>805</td>\n",
              "      <td>40</td>\n",
              "      <td>4</td>\n",
              "      <td>91.5</td>\n",
              "      <td>N</td>\n",
              "    </tr>\n",
              "  </tbody>\n",
              "</table>\n",
              "</div>"
            ],
            "text/plain": [
              "          Unnamed: 0  AtBat  Hits  HmRun  ...  Assists  Errors  Salary  NewLeague\n",
              "0     -Andy Allanson    293    66      1  ...       33      20     NaN          A\n",
              "1        -Alan Ashby    315    81      7  ...       43      10   475.0          N\n",
              "2       -Alvin Davis    479   130     18  ...       82      14   480.0          A\n",
              "3      -Andre Dawson    496   141     20  ...       11       3   500.0          N\n",
              "4  -Andres Galarraga    321    87     10  ...       40       4    91.5          N\n",
              "\n",
              "[5 rows x 21 columns]"
            ]
          },
          "metadata": {
            "tags": []
          },
          "execution_count": 135
        }
      ]
    },
    {
      "cell_type": "code",
      "metadata": {
        "id": "4kCdkUob_326",
        "colab_type": "code",
        "colab": {
          "base_uri": "https://localhost:8080/",
          "height": 34
        },
        "outputId": "c9735372-f1f1-4110-af08-4838bd12a39e"
      },
      "source": [
        "df = df.dropna()\n",
        "df.head()\n",
        "df.shape\n",
        "\n"
      ],
      "execution_count": 137,
      "outputs": [
        {
          "output_type": "execute_result",
          "data": {
            "text/plain": [
              "(263, 17)"
            ]
          },
          "metadata": {
            "tags": []
          },
          "execution_count": 137
        }
      ]
    },
    {
      "cell_type": "code",
      "metadata": {
        "id": "Z_QVkRPvC03d",
        "colab_type": "code",
        "colab": {}
      },
      "source": [
        "df = df.select_dtypes(include=np.number)\n"
      ],
      "execution_count": 138,
      "outputs": []
    },
    {
      "cell_type": "code",
      "metadata": {
        "id": "yxi-c3F6ENRo",
        "colab_type": "code",
        "colab": {}
      },
      "source": [
        "\n",
        "import pandas as pd\n",
        "import numpy as np\n",
        "import matplotlib.pyplot as plt\n",
        "from sklearn.preprocessing import scale\n",
        "from sklearn.linear_model import Lasso, LassoCV, Ridge, RidgeCV\n",
        "from sklearn.model_selection import cross_validate\n",
        "from sklearn.metrics import mean_squared_error"
      ],
      "execution_count": 161,
      "outputs": []
    },
    {
      "cell_type": "code",
      "metadata": {
        "id": "IBe1PbycN0TI",
        "colab_type": "code",
        "colab": {
          "base_uri": "https://localhost:8080/",
          "height": 34
        },
        "outputId": "271cfbae-f820-495b-ccc4-179717421c2f"
      },
      "source": [
        "X = df.drop(columns='Salary')\n",
        "y = df['Salary']\n",
        "\n",
        "alphas = 10**np.linspace(6,-2,50)*0.8\n",
        "alphas\n",
        "\n",
        "lasso = Lasso(max_iter=10000, normalize=True)\n",
        "coefs = []\n",
        "\n",
        "for a in alphas:\n",
        "    lasso.set_params(alpha=a)\n",
        "    lasso.fit(X, y)\n",
        "    coefs.append(lasso.coef_)\n",
        "    \n",
        "np.shape(coefs)"
      ],
      "execution_count": 156,
      "outputs": [
        {
          "output_type": "execute_result",
          "data": {
            "text/plain": [
              "(50, 16)"
            ]
          },
          "metadata": {
            "tags": []
          },
          "execution_count": 156
        }
      ]
    },
    {
      "cell_type": "code",
      "metadata": {
        "id": "W7I6N5mUTJog",
        "colab_type": "code",
        "colab": {
          "base_uri": "https://localhost:8080/",
          "height": 300
        },
        "outputId": "8d032a83-4f9d-4500-c6da-7a305c24126a"
      },
      "source": [
        "ax = plt.gca()\n",
        "ax.plot(alphas, coefs)\n",
        "ax.set_xscale('log')\n",
        "plt.axis('tight')\n",
        "plt.xlabel('alpha')\n",
        "plt.ylabel('weights')"
      ],
      "execution_count": 157,
      "outputs": [
        {
          "output_type": "execute_result",
          "data": {
            "text/plain": [
              "Text(0, 0.5, 'weights')"
            ]
          },
          "metadata": {
            "tags": []
          },
          "execution_count": 157
        },
        {
          "output_type": "display_data",
          "data": {
            "image/png": "[encoded data removed]",
            "text/plain": [
              "<Figure size 432x288 with 1 Axes>"
            ]
          },
          "metadata": {
            "tags": [],
            "needs_background": "light"
          }
        }
      ]
    },
    {
      "cell_type": "code",
      "metadata": {
        "id": "mgKFxhnMSTie",
        "colab_type": "code",
        "colab": {
          "base_uri": "https://localhost:8080/",
          "height": 300
        },
        "outputId": "4632ea40-0487-49c6-f2bc-218e39f0818e"
      },
      "source": [
        "\n",
        "alphas = 10**np.linspace(6,-2,50)*0.8\n",
        "alphas\n",
        "\n",
        "ridge = Ridge(max_iter=10000, normalize=True)\n",
        "coefs2 = []\n",
        "\n",
        "for a in alphas:\n",
        "    ridge.set_params(alpha=a)\n",
        "    ridge.fit(X, y)\n",
        "    coefs2.append(ridge.coef_)\n",
        "    \n",
        "np.shape(coefs2)\n",
        "\n",
        "ax = plt.gca()\n",
        "ax.plot(alphas, coefs2)\n",
        "ax.set_xscale('log')\n",
        "plt.axis('tight')\n",
        "plt.xlabel('alpha')\n",
        "plt.ylabel('weights')"
      ],
      "execution_count": 168,
      "outputs": [
        {
          "output_type": "execute_result",
          "data": {
            "text/plain": [
              "Text(0, 0.5, 'weights')"
            ]
          },
          "metadata": {
            "tags": []
          },
          "execution_count": 168
        },
        {
          "output_type": "display_data",
          "data": {
            "image/png": "[encoded data removed]",
            "text/plain": [
              "<Figure size 432x288 with 1 Axes>"
            ]
          },
          "metadata": {
            "tags": [],
            "needs_background": "light"
          }
        }
      ]
    },
    {
      "cell_type": "code",
      "metadata": {
        "id": "6S2jlWrpGZvi",
        "colab_type": "code",
        "colab": {
          "base_uri": "https://localhost:8080/",
          "height": 1000
        },
        "outputId": "94786caa-073b-45d6-8d56-563068619c52"
      },
      "source": [
        "coefs"
      ],
      "execution_count": 158,
      "outputs": [
        {
          "output_type": "execute_result",
          "data": {
            "text/plain": [
              "[array([ 0.,  0.,  0.,  0.,  0.,  0.,  0.,  0.,  0.,  0.,  0.,  0.,  0.,\n",
              "         0.,  0., -0.]),\n",
              " array([ 0.,  0.,  0.,  0.,  0.,  0.,  0.,  0.,  0.,  0.,  0.,  0.,  0.,\n",
              "         0.,  0., -0.]),\n",
              " array([ 0.,  0.,  0.,  0.,  0.,  0.,  0.,  0.,  0.,  0.,  0.,  0.,  0.,\n",
              "         0.,  0., -0.]),\n",
              " array([ 0.,  0.,  0.,  0.,  0.,  0.,  0.,  0.,  0.,  0.,  0.,  0.,  0.,\n",
              "         0.,  0., -0.]),\n",
              " array([ 0.,  0.,  0.,  0.,  0.,  0.,  0.,  0.,  0.,  0.,  0.,  0.,  0.,\n",
              "         0.,  0., -0.]),\n",
              " array([ 0.,  0.,  0.,  0.,  0.,  0.,  0.,  0.,  0.,  0.,  0.,  0.,  0.,\n",
              "         0.,  0., -0.]),\n",
              " array([ 0.,  0.,  0.,  0.,  0.,  0.,  0.,  0.,  0.,  0.,  0.,  0.,  0.,\n",
              "         0.,  0., -0.]),\n",
              " array([ 0.,  0.,  0.,  0.,  0.,  0.,  0.,  0.,  0.,  0.,  0.,  0.,  0.,\n",
              "         0.,  0., -0.]),\n",
              " array([ 0.,  0.,  0.,  0.,  0.,  0.,  0.,  0.,  0.,  0.,  0.,  0.,  0.,\n",
              "         0.,  0., -0.]),\n",
              " array([ 0.,  0.,  0.,  0.,  0.,  0.,  0.,  0.,  0.,  0.,  0.,  0.,  0.,\n",
              "         0.,  0., -0.]),\n",
              " array([ 0.,  0.,  0.,  0.,  0.,  0.,  0.,  0.,  0.,  0.,  0.,  0.,  0.,\n",
              "         0.,  0., -0.]),\n",
              " array([ 0.,  0.,  0.,  0.,  0.,  0.,  0.,  0.,  0.,  0.,  0.,  0.,  0.,\n",
              "         0.,  0., -0.]),\n",
              " array([ 0.,  0.,  0.,  0.,  0.,  0.,  0.,  0.,  0.,  0.,  0.,  0.,  0.,\n",
              "         0.,  0., -0.]),\n",
              " array([ 0.,  0.,  0.,  0.,  0.,  0.,  0.,  0.,  0.,  0.,  0.,  0.,  0.,\n",
              "         0.,  0., -0.]),\n",
              " array([ 0.,  0.,  0.,  0.,  0.,  0.,  0.,  0.,  0.,  0.,  0.,  0.,  0.,\n",
              "         0.,  0., -0.]),\n",
              " array([ 0.,  0.,  0.,  0.,  0.,  0.,  0.,  0.,  0.,  0.,  0.,  0.,  0.,\n",
              "         0.,  0., -0.]),\n",
              " array([ 0.,  0.,  0.,  0.,  0.,  0.,  0.,  0.,  0.,  0.,  0.,  0.,  0.,\n",
              "         0.,  0., -0.]),\n",
              " array([ 0.,  0.,  0.,  0.,  0.,  0.,  0.,  0.,  0.,  0.,  0.,  0.,  0.,\n",
              "         0.,  0., -0.]),\n",
              " array([ 0.,  0.,  0.,  0.,  0.,  0.,  0.,  0.,  0.,  0.,  0.,  0.,  0.,\n",
              "         0.,  0., -0.]),\n",
              " array([ 0.,  0.,  0.,  0.,  0.,  0.,  0.,  0.,  0.,  0.,  0.,  0.,  0.,\n",
              "         0.,  0., -0.]),\n",
              " array([ 0.,  0.,  0.,  0.,  0.,  0.,  0.,  0.,  0.,  0.,  0.,  0.,  0.,\n",
              "         0.,  0., -0.]),\n",
              " array([ 0.,  0.,  0.,  0.,  0.,  0.,  0.,  0.,  0.,  0.,  0.,  0.,  0.,\n",
              "         0.,  0., -0.]),\n",
              " array([ 0.,  0.,  0.,  0.,  0.,  0.,  0.,  0.,  0.,  0.,  0.,  0.,  0.,\n",
              "         0.,  0., -0.]),\n",
              " array([ 0.,  0.,  0.,  0.,  0.,  0.,  0.,  0.,  0.,  0.,  0.,  0.,  0.,\n",
              "         0.,  0., -0.]),\n",
              " array([ 0.,  0.,  0.,  0.,  0.,  0.,  0.,  0.,  0.,  0.,  0.,  0.,  0.,\n",
              "         0.,  0., -0.]),\n",
              " array([ 0.,  0.,  0.,  0.,  0.,  0.,  0.,  0.,  0.,  0.,  0.,  0.,  0.,\n",
              "         0.,  0., -0.]),\n",
              " array([ 0.,  0.,  0.,  0.,  0.,  0.,  0.,  0.,  0.,  0.,  0.,  0.,  0.,\n",
              "         0.,  0., -0.]),\n",
              " array([ 0.,  0.,  0.,  0.,  0.,  0.,  0.,  0.,  0.,  0.,  0.,  0.,  0.,\n",
              "         0.,  0., -0.]),\n",
              " array([ 0.,  0.,  0.,  0.,  0.,  0.,  0.,  0.,  0.,  0.,  0.,  0.,  0.,\n",
              "         0.,  0., -0.]),\n",
              " array([ 0.        ,  0.        ,  0.        ,  0.        ,  0.        ,\n",
              "         0.        ,  0.        ,  0.        ,  0.        ,  0.        ,\n",
              "         0.        ,  0.05048843,  0.        ,  0.        ,  0.        ,\n",
              "        -0.        ]),\n",
              " array([0.        , 0.29476928, 0.        , 0.        , 0.        ,\n",
              "        0.        , 0.        , 0.        , 0.        , 0.        ,\n",
              "        0.07472542, 0.20111238, 0.        , 0.        , 0.        ,\n",
              "        0.        ]),\n",
              " array([ 0.        ,  0.97562483,  0.        ,  0.        ,  0.        ,\n",
              "         0.94568472,  0.        ,  0.        ,  0.        ,  0.        ,\n",
              "         0.10527846,  0.29013465,  0.        ,  0.        ,  0.        ,\n",
              "        -0.        ]),\n",
              " array([ 0.        ,  1.35281892,  0.        ,  0.        ,  0.        ,\n",
              "         1.48324586,  0.        ,  0.        ,  0.        ,  0.        ,\n",
              "         0.14815273,  0.32997157,  0.        ,  0.06292788,  0.        ,\n",
              "        -0.        ]),\n",
              " array([ 0.        ,  1.5848591 ,  0.        ,  0.        ,  0.        ,\n",
              "         1.80651941,  0.        ,  0.        ,  0.        ,  0.        ,\n",
              "         0.18482802,  0.3504134 ,  0.        ,  0.12663023,  0.        ,\n",
              "        -0.        ]),\n",
              " array([ 0.        ,  1.74418378,  0.        ,  0.        ,  0.        ,\n",
              "         2.02847159,  0.        ,  0.        ,  0.        ,  0.        ,\n",
              "         0.21004234,  0.36441994,  0.        ,  0.17037325, -0.        ,\n",
              "        -0.        ]),\n",
              " array([ 0.        ,  1.85359228,  0.        ,  0.        ,  0.        ,\n",
              "         2.18091063,  0.        ,  0.        ,  0.        ,  0.        ,\n",
              "         0.22730748,  0.3740835 ,  0.        ,  0.20040646, -0.        ,\n",
              "        -0.        ]),\n",
              " array([-0.        ,  1.93268768,  0.        ,  0.        ,  0.        ,\n",
              "         2.26781173, -0.        ,  0.        ,  0.        ,  0.03603303,\n",
              "         0.24392429,  0.36783574,  0.        ,  0.22131797, -0.        ,\n",
              "        -0.        ]),\n",
              " array([-0.        ,  2.01032563,  0.        ,  0.        ,  0.        ,\n",
              "         2.31058047, -0.        ,  0.        ,  0.        ,  0.07436522,\n",
              "         0.2576257 ,  0.35677069, -0.        ,  0.23586574, -0.        ,\n",
              "        -0.41398939]),\n",
              " array([-0.30803142,  2.97656963, -0.        ,  0.        ,  0.        ,\n",
              "         2.49470268, -0.23881276, -0.        ,  0.        ,  0.16645431,\n",
              "         0.27288989,  0.33099556, -0.        ,  0.24806428,  0.        ,\n",
              "        -0.58586704]),\n",
              " array([-0.94862539,  4.51693993, -0.        ,  0.        ,  0.        ,\n",
              "         3.42597608, -4.83519465, -0.        ,  0.        ,  0.30118716,\n",
              "         0.43858414,  0.33973451, -0.18667896,  0.2599011 ,  0.0365597 ,\n",
              "        -0.50242502]),\n",
              " array([-1.44523923,  5.56161112, -0.        ,  0.        ,  0.11484755,\n",
              "         4.29951616, -7.65467945, -0.        ,  0.        ,  0.47339159,\n",
              "         0.60129585,  0.3244788 , -0.38514153,  0.27326364,  0.13174253,\n",
              "        -1.29019017]),\n",
              " array([-1.79352426,  6.25704536, -0.        , -0.        ,  0.30014373,\n",
              "         4.8891914 , -9.58373155, -0.        ,  0.        ,  0.58240114,\n",
              "         0.71701985,  0.30978436, -0.520308  ,  0.28234072,  0.20025872,\n",
              "        -1.86216299]),\n",
              " array([-1.96593738,  6.57920578, -0.        , -0.        ,  0.37475677,\n",
              "         5.15652718, -8.3835937 , -0.03500526,  0.        ,  0.40345869,\n",
              "         0.929151  ,  0.43221369, -0.60638   ,  0.28869361,  0.2562568 ,\n",
              "        -2.19368378]),\n",
              " array([-2.05255377,  6.90023292,  0.        , -0.4502205 ,  0.45844508,\n",
              "         5.40460089, -6.72320032, -0.07282917,  0.        ,  0.22014307,\n",
              "         1.14489704,  0.54481576, -0.66755396,  0.29176306,  0.29206362,\n",
              "        -2.38388641]),\n",
              " array([-2.10798816,  7.18869612,  0.27710559, -0.93235705,  0.43981583,\n",
              "         5.62293784, -5.53913762, -0.10047869,  0.        ,  0.07772219,\n",
              "         1.30411842,  0.62650907, -0.71151581,  0.29323753,  0.31686105,\n",
              "        -2.51407592]),\n",
              " array([-2.15190333,  7.44996305,  0.7971644 , -1.33944504,  0.31349666,\n",
              "         5.80428164, -4.67606212, -0.11897311,  0.        ,  0.        ,\n",
              "         1.41561571,  0.67419292, -0.74533436,  0.29431602,  0.33660037,\n",
              "        -2.60187352]),\n",
              " array([-2.19024193,  7.64573575,  1.03959949, -1.60834407,  0.2602521 ,\n",
              "         5.93191052, -4.18174078, -0.12878614,  0.        , -0.        ,\n",
              "         1.48426066,  0.68519644, -0.7702594 ,  0.29546213,  0.34966961,\n",
              "        -2.65762094]),\n",
              " array([-2.19401035,  7.68041895,  1.26148858, -1.72060213,  0.20760053,\n",
              "         5.98893483, -3.6367512 , -0.1450865 ,  0.04179605, -0.        ,\n",
              "         1.50334686,  0.69271311, -0.77379641,  0.29537429,  0.36135091,\n",
              "        -2.73637331]),\n",
              " array([-2.19910291,  7.72833239,  1.50873016, -1.83205773,  0.14632898,\n",
              "         6.04044716, -3.34590085, -0.15422973,  0.05267881, -0.05434445,\n",
              "         1.53233419,  0.71896313, -0.7801717 ,  0.29521732,  0.36840337,\n",
              "        -2.78157292]),\n",
              " array([-2.20024034,  7.75905158,  1.7134747 , -1.91552779,  0.09340526,\n",
              "         6.07493974, -3.10806176, -0.16118571,  0.05826853, -0.11000742,\n",
              "         1.55654057,  0.74467258, -0.78442683,  0.29501406,  0.37330556,\n",
              "        -2.81216527])]"
            ]
          },
          "metadata": {
            "tags": []
          },
          "execution_count": 158
        }
      ]
    },
    {
      "cell_type": "code",
      "metadata": {
        "id": "gNAGJ0w9IXym",
        "colab_type": "code",
        "colab": {
          "base_uri": "https://localhost:8080/",
          "height": 34
        },
        "outputId": "5e0551b1-0a0a-47fd-d1a5-c0c255b41aeb"
      },
      "source": [
        "c = []\n",
        "for i in coefs:\n",
        "  c.append(len([x for x in i if x > 0]) )\n",
        "\n",
        "c.index(3)\n",
        "\n",
        "coefs = coefs[c.index(3)]\n",
        "\n",
        "colnames = X.columns.values.tolist()\n",
        "\n",
        "colnames = [colnames[i] for i in range(len(colnames)) if coefs[i]>0 ]\n",
        "\n",
        "colnames"
      ],
      "execution_count": 159,
      "outputs": [
        {
          "output_type": "execute_result",
          "data": {
            "text/plain": [
              "['Hits', 'CRuns', 'CRBI']"
            ]
          },
          "metadata": {
            "tags": []
          },
          "execution_count": 159
        }
      ]
    },
    {
      "cell_type": "code",
      "metadata": {
        "id": "5rS1-DEBN6Z4",
        "colab_type": "code",
        "colab": {
          "base_uri": "https://localhost:8080/",
          "height": 357
        },
        "outputId": "c13bb57e-c9b8-4852-c2e2-48b2667cc0c4"
      },
      "source": [
        "X_train, X_test , y_train, y_test = train_test_split(X, y, test_size=0.5, random_state=1)\n",
        "\n",
        "lassocv = LassoCV(alphas=None, cv=10, max_iter=100000, normalize=True)\n",
        "lassocv.fit(X_train, y_train)\n",
        "lasso.set_params(alpha=lassocv.alpha_)\n",
        "\n",
        "print(\"Alpha=\", lassocv.alpha_)\n",
        "lasso.fit(X_train, y_train)\n",
        "print(\"mse = \",mean_squared_error(y_test, lasso.predict(X_test)))\n",
        "print(\"best model coefficients:\")\n",
        "pd.Series(lasso.coef_, index=X.columns)"
      ],
      "execution_count": 166,
      "outputs": [
        {
          "output_type": "stream",
          "text": [
            "Alpha= 2.2410206769492604\n",
            "mse =  111160.39367053009\n",
            "best model coefficients:\n"
          ],
          "name": "stdout"
        },
        {
          "output_type": "execute_result",
          "data": {
            "text/plain": [
              "AtBat      0.000000\n",
              "Hits       0.951516\n",
              "HmRun      0.000000\n",
              "Runs       0.000000\n",
              "RBI        0.402763\n",
              "Walks      2.774631\n",
              "Years      0.000000\n",
              "CAtBat     0.000000\n",
              "CHits      0.000000\n",
              "CHmRun     0.268635\n",
              "CRuns      0.000000\n",
              "CRBI       0.492185\n",
              "CWalks     0.000000\n",
              "PutOuts    0.394770\n",
              "Assists    0.000000\n",
              "Errors    -0.000000\n",
              "dtype: float64"
            ]
          },
          "metadata": {
            "tags": []
          },
          "execution_count": 166
        }
      ]
    },
    {
      "cell_type": "code",
      "metadata": {
        "id": "iKJbWS80O65Q",
        "colab_type": "code",
        "colab": {
          "base_uri": "https://localhost:8080/",
          "height": 357
        },
        "outputId": "c571ca03-43cd-4666-fc42-2a57d1900aa1"
      },
      "source": [
        "ridgecv = RidgeCV(alphas=alphas, normalize=True)\n",
        "ridgecv.fit(X_train, y_train)\n",
        "print(\"Alpha=\", ridgecv.alpha_)\n",
        "ridge6 = Ridge(alpha=ridgecv.alpha_, normalize=True)\n",
        "ridge6.fit(X_train, y_train)\n",
        "print(\"mse = \",mean_squared_error(y_test, ridge6.predict(X_test)))\n",
        "print(\"best model coefficients:\")\n",
        "pd.Series(ridge6.coef_, index=X.columns)"
      ],
      "execution_count": 167,
      "outputs": [
        {
          "output_type": "stream",
          "text": [
            "Alpha= 0.5000441540219182\n",
            "mse =  104938.85473715045\n",
            "best model coefficients:\n"
          ],
          "name": "stdout"
        },
        {
          "output_type": "execute_result",
          "data": {
            "text/plain": [
              "AtBat     -0.061531\n",
              "Hits       0.873620\n",
              "HmRun     -0.500499\n",
              "Runs       0.676463\n",
              "RBI        1.530035\n",
              "Walks      2.080009\n",
              "Years      0.280964\n",
              "CAtBat     0.005930\n",
              "CHits      0.053010\n",
              "CHmRun     0.528357\n",
              "CRuns      0.110028\n",
              "CRBI       0.131784\n",
              "CWalks     0.099807\n",
              "PutOuts    0.312067\n",
              "Assists    0.014189\n",
              "Errors     0.149550\n",
              "dtype: float64"
            ]
          },
          "metadata": {
            "tags": []
          },
          "execution_count": 167
        }
      ]
    },
    {
      "cell_type": "markdown",
      "metadata": {
        "id": "z_ZyCMVPRac9",
        "colab_type": "text"
      },
      "source": [
        "1.1 The remained coefficients are ['Hits', 'CRuns', 'CRBI']. The optimized alpha value of Lasso is 2.24 with 6 parameters left.\n",
        "\n",
        "1.2 The optimized alpha value of Ridge is 0.5.\n",
        "\n",
        "\n",
        "2\n",
        "Total error of a model is the sum of Bias and Variance.Bias is how well our selection of model fits the sample and Variance is how much the performance of each trained models varies. \n",
        "So if our model is overfitting. The bias of this model will be very low. However it is not comprehensive. Then the variance will be high. Vice versa. \n",
        "\n",
        "Thus when the Lasso uses all the parameters, the mse of training set will be very low however the performance on test set will not be as satisfying."
      ]
    }
  ]
}